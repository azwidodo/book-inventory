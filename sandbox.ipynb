{
 "cells": [
  {
   "cell_type": "code",
   "execution_count": 1,
   "metadata": {},
   "outputs": [],
   "source": [
    "import pandas as pd"
   ]
  },
  {
   "cell_type": "code",
   "execution_count": 14,
   "metadata": {},
   "outputs": [
    {
     "data": {
      "text/plain": [
       "array([9789792250589, 9781412971676, 9789791275330, 9781409350156,\n",
       "       9781471178252, 9780316679077, 9789792243161, 9780670033027,\n",
       "       9780199588053, 9780141003146, 9781534496392, 9789791238670,\n",
       "       9786020011813, 9789792439328, 9789792439366, 9781782490913,\n",
       "       9786025350382, 9781906438722, 9780517884539, 9789798926327,\n",
       "       9786022912002, 9789792246841, 9780307744661, 9780807046579,\n",
       "       9780749259747, 9780061956270, 9780804171588, 9780071151443,\n",
       "       9781438004709, 9780753404355, 9781447220718, 9789792298406,\n",
       "       9780199233410, 9786022080336, 9789792704051, 9789792438703,\n",
       "       9780141033570, 9786024122911, 9780552174992, 9789794030462,\n",
       "       9780756692681, 9780349142630, 9786024120566, 9786021318638,\n",
       "       9786239073909, 9789792263251, 9786021318690, 9789792238464,\n",
       "       9781782744849])"
      ]
     },
     "execution_count": 14,
     "metadata": {},
     "output_type": "execute_result"
    }
   ],
   "source": [
    "df = pd.read_csv(\"books.csv\")\n",
    "df[\"ISBN\"].unique()"
   ]
  },
  {
   "cell_type": "code",
   "execution_count": 21,
   "metadata": {},
   "outputs": [
    {
     "name": "stdout",
     "output_type": "stream",
     "text": [
      "             ISBN                                                                                                  title                series                                                                                                                                                                                                                 authors\n",
      "0   9789792250589                                                                         Kilau Bintang Menerangi Bumi 1                   NaN                                                                                                                                                                                                      ['Sidney Sheldon']\n",
      "1   9781412971676                                                                              Applied Thematic Analysis                   NaN                                                                                                                                                                   ['Greg Guest', 'Kathleen Macqueen', 'Emily E. Namey']\n",
      "2   9789791275330                                                   Muhammad: Kisah Hidup Nabi Berdasarkan Sumber Klasik                   NaN                                                                                                                                                                                       ['Martin Lings', 'Qamaruddin SF']\n",
      "3   9781409350156                                                          The Science Book (Big Ideas Simply Explained)                   NaN  ['Rob Colson', 'Camilla Hallinan', 'David John', 'John Farndon', 'Adam Hart-Davis', 'Giles Sparrow', 'Dan Green', 'Derek Harvey', 'Penny Johnson', 'Douglas Palmer', 'Steve Parker', 'James Graham', 'Peter Liddiard']\n",
      "4   9781471178252  The Irrational Ape: Why Flawed Logic Puts us all at Risk and How Critical Thinking Can Save the World                   NaN                                                                                                                                                                                                 ['David Robert Grimes']\n",
      "5   9780316679077                                         The Tipping Point: How Little Things Can Make a Big Difference                   NaN                                                                                                                                                                                                    ['Malcolm Gladwell']\n",
      "6   9789792243161                                                                                       The Road - Jalan                   NaN                                                                                                                                                                                    ['Cormac McCarthy', 'Sonya Sondakh']\n",
      "7   9780670033027                                                                         England's Thousand Best Houses                   NaN                                                                                                                                                                                     ['Simon Jenkins', 'Quintin Wright']\n",
      "8   9780199588053                                                                                Social Research Methods                   NaN                                                                                                                                                                                                         ['Alan Bryman']\n",
      "9   9780141003146                                                             Logic: An Introduction to Elementary Logic                   NaN                                                                                                                                                                                                      ['Wilfrid Hodges']\n",
      "10  9781534496392                                                                                          Chain of Iron     The Last Hours #2                                                                                                                                                                                                     ['Cassandra Clare']\n",
      "11  9789791238670                                                                                    Satu Tiket Ke Surga                   NaN                                                                                                                                                                                                    ['Zabrina A. Bakar']\n",
      "12  9786020011813                                                                             Dua Tangis dan Ribuan Tawa                   NaN                                                                                                                                                                                                        ['Dahlan Iskan']\n",
      "13  9789792439328                                                                              Burung Kolibri Merah Dadu                   NaN                                                                                                                                                                                                      ['Kurnia Effendi']\n",
      "14  9789792439366                                                                                     The Naked Traveler     Naked Traveler #1                                                                                                                                                                                                  ['Trinity', 'Bendung']\n",
      "15  9781782490913                                     Hand-Crafted Cards: 50 step-by-step projects for every celebration                   NaN                                                                                                                                                                                                          ['Emma Hardy']\n",
      "16  9786025350382                                                             Belajar Mencintai Kambing: Kumpulan Cerpen                   NaN                                                                                                                                                                                                       ['Mahfud Ikhwan']\n",
      "17  9781906438722                                                                            Top Tips for IELTS Academic    Top Tips for IELTS                                                                                                                           ['Margaret Matthews', \"Felicity O'Dell\", 'Michael Black', 'Carole Allsop', 'Sandra Lockwood']\n",
      "18  9780517884539                            How to Talk to Anyone, Anytime, Anywhere: The Secrets of Good Communication                   NaN                                                                                                                                                                                          ['Larry King', 'Bill Gilbert']\n",
      "19  9789798926327                                                Flavors of Indonesia: William Wongso's Culinary Wonders                   NaN                                                                                                                                                                                                   ['William W. Wongso']\n",
      "20  9786022912002                                                                                   The Seven Good Years                   NaN                                                                                                                                                                      ['Etgar Keret', 'Ade Kumalasari', 'Eka Kurniawan']\n",
      "21  9789792246841                                                                                                Dua Ibu                   NaN                                                                                                                                                                                                 ['Arswendo Atmowiloto']\n",
      "22  9780307744661                                                                                         Norwegian Wood                   NaN                                                                                                                                                                                        ['Haruki Murakami', 'Jay Rubin']\n",
      "23  9780807046579                                          The Only Woman in the Room: Why Science Is Still a Boys' Club                   NaN                                                                                                                                                                                                      ['Eileen Pollack']\n",
      "24  9780749259747                                                                                   The Good Study Guide                   NaN                                                                                                                                                                                                    ['Andrew Northedge']\n",
      "25  9780061956270                                 Freakonomics: A Rogue Economist Explores the Hidden Side of Everything          Freakonomics                                                                                                                                                                               ['Steven D. Levitt', 'Stephen J. Dubner']\n",
      "26  9780804171588                                                                                      Crazy Rich Asians  Crazy Rich Asians #1                                                                                                                                                                                                          ['Kevin Kwan']\n",
      "27  9780071151443                                                                        Principles Of Corporate Finance                   NaN                                                                                                                                                            ['Richard A. Brealey', 'Stewart C. Myers', 'Ricki C. Lewis']\n",
      "28  9781438004709                     Scissors, Paper, Craft: 30 Pretty Projects All Cut, Folded, and Crafted from Paper                   NaN                                                                                                                                                                                                     ['Christine Leech']\n",
      "29  9780753404355                                                                    The Kingfisher Science Encyclopedia                   NaN                                                                                                                                                                                  ['Kingfisher Books', 'Charles Taylor']\n",
      "30  9781447220718                                                                                  The ship of adventure          Adventure #6                                                                                                                                                                                                         ['Enid Blyton']\n",
      "31  9789792298406                                                                                           Sang Alkemis                   NaN                                                                                                                                                                                       ['Paulo Coelho', 'Tanti Lesmana']\n",
      "32  9780199233410                                                                                A Dictionary of Zoology                   NaN                                                                                                                                                                                                      ['Michael Allaby']\n",
      "33  9786022080336                                                      Trust No One, Suspect Everyone!: My Stupid Boss 4     My Stupid Boss #4                                                                                                                                                                                                          ['Chaos@work']\n",
      "34  9789792704051                                                                                         Quantum Ikhlas                   NaN                                                                                                                                                                                                        ['Erbe Sentanu']\n",
      "35  9789792438703                                                                                   The Naked Traveler 2     Naked Traveler #2                                                                                                                                                                                                             ['Trinity']\n",
      "36  9780141033570                                                                                Thinking, Fast and Slow                   NaN                                                                                                                                                                                                     ['Daniel Kahneman']\n",
      "37  9786024122911                                                      #CURHATSTAF: Seni Mendengarkan bagi Para Pemimpin                   NaN                                                                                                                                                                                                       ['Josef Bataona']\n",
      "38  9780552174992                                                                                   God: A Human History                   NaN                                                                                                                                                                                                          ['Reza Aslan']\n",
      "39  9789794030462                                                                                    Robohnya Surau Kami                   NaN                                                                                                                                                                                                          ['A.A. Navis']\n",
      "40  9780756692681                                                                            Help Your Kids with Science                   NaN                                                                                                                                                                                                        ['Carron Brown']\n",
      "41  9780349142630                                                              Fifty Things that Made the Modern Economy                   NaN                                                                                                                                                                                                         ['Tim Harford']\n",
      "42  9786024120566                                                                  Inspirasi Kebangsaan dari Ruang Kelas                   NaN                                                                                                                                                                                                         ['St. Sularto']\n",
      "43  9786021318638                                               Mereka Sibuk Menghitung Langkah Ayam: Sehimpun Reportase                   NaN                                                                                                                                                                                                       ['Rusdi Mathari']\n",
      "44  9786239073909                                                                               Sekolah Dibubarkan Saja!                   NaN                                                                                                                                                                                                    ['Afdillah Chudiel']\n",
      "45  9789792263251                                                                                          Ranah 3 Warna    Negeri 5 Menara #2                                                                                                                                                                                                         ['Ahmad Fuadi']\n",
      "46  9786021318690                                                    Lambe Akrobat: Kisah Geng Koplo dan Keluarga Hansip                   NaN                                                                                                                                                                                                        ['Agus Mulyadi']\n",
      "47  9789792238464                                                                                             divortiare                   NaN                                                                                                                                                                                                         ['Ika Natassa']\n",
      "48  9781782744849                                                   Bushido: The Soul of Japan – The Code of the Samurai                   NaN                                                                                                                                                                                                        ['Inazō Nitobe']\n"
     ]
    }
   ],
   "source": [
    "str = df.to_string()\n",
    "\n",
    "for line in str.splitlines():\n",
    "    print(line)"
   ]
  }
 ],
 "metadata": {
  "interpreter": {
   "hash": "56c8777a1f040a2de9fa3eb17ebdf4545764ae505d4c453a31f80c5246ad7009"
  },
  "kernelspec": {
   "display_name": "Python 3.9.5 64-bit ('library': conda)",
   "name": "python3"
  },
  "language_info": {
   "codemirror_mode": {
    "name": "ipython",
    "version": 3
   },
   "file_extension": ".py",
   "mimetype": "text/x-python",
   "name": "python",
   "nbconvert_exporter": "python",
   "pygments_lexer": "ipython3",
   "version": "3.9.5"
  },
  "orig_nbformat": 4
 },
 "nbformat": 4,
 "nbformat_minor": 2
}
